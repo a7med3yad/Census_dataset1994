{
 "cells": [
  {
   "cell_type": "code",
   "execution_count": 32,
   "metadata": {},
   "outputs": [],
   "source": [
    "import pandas as pd\n",
    "import numpy as np"
   ]
  },
  {
   "cell_type": "code",
   "execution_count": 33,
   "metadata": {},
   "outputs": [],
   "source": [
    "df=pd.read_csv(\"C:\\\\Users\\\\ahmed\\\\Downloads\\\\archive\\\\adult income1.csv\")"
   ]
  },
  {
   "cell_type": "code",
   "execution_count": null,
   "metadata": {},
   "outputs": [],
   "source": [
    "race_counts = df['race'].value_counts()"
   ]
  },
  {
   "cell_type": "code",
   "execution_count": 38,
   "metadata": {},
   "outputs": [
    {
     "data": {
      "text/plain": [
       "np.float64(39.42245538432714)"
      ]
     },
     "execution_count": 38,
     "metadata": {},
     "output_type": "execute_result"
    }
   ],
   "source": [
    "average_age_of_men=df[df['sex']=='Male']['age'].mean()\n",
    "average_age_of_men"
   ]
  },
  {
   "cell_type": "code",
   "execution_count": 51,
   "metadata": {},
   "outputs": [
    {
     "name": "stdout",
     "output_type": "stream",
     "text": [
      "16.30200018781106%\n"
     ]
    }
   ],
   "source": [
    "size=31947\n",
    "bachelors_count = df[df['education']=='Bachelors']['education'].count()\n",
    "print(f'{(bachelors_count/size)*100}'+'%')"
   ]
  },
  {
   "cell_type": "code",
   "execution_count": 56,
   "metadata": {},
   "outputs": [
    {
     "name": "stdout",
     "output_type": "stream",
     "text": [
      "10.61%\n"
     ]
    }
   ],
   "source": [
    "high_degree_count = df[(df['education'].isin(['Bachelors', 'Masters', 'Doctorate'])) & (df['income'] == '>50K')]['education'].count()\n",
    "print(f'{(high_degree_count / size) * 100:.2f}%')"
   ]
  },
  {
   "cell_type": "code",
   "execution_count": 80,
   "metadata": {},
   "outputs": [
    {
     "name": "stdout",
     "output_type": "stream",
     "text": [
      "66.83%\n"
     ]
    }
   ],
   "source": [
    "men_count = df[df['sex'] == 'Male']['sex'].count()\n",
    "men_count\n",
    "print(f'{(men_count / size) * 100:.2f}%')"
   ]
  },
  {
   "cell_type": "code",
   "execution_count": null,
   "metadata": {},
   "outputs": [
    {
     "name": "stdout",
     "output_type": "stream",
     "text": [
      "0.00%\n"
     ]
    }
   ],
   "source": [
    "low_education = df[~(df['education'].isin(['Bachelors', 'Masters', 'Doctorate']))]\n",
    "income_low_education_per=low_education[low_education['income']=='>50k']['income'].count()\n",
    "print(f'{(income_low_education_per / size) * 100:.2f}%')"
   ]
  },
  {
   "cell_type": "code",
   "execution_count": null,
   "metadata": {},
   "outputs": [
    {
     "name": "stdout",
     "output_type": "stream",
     "text": [
      "Iran: 41.86%\n"
     ]
    }
   ],
   "source": [
    "\n",
    "high_income = df[df['income'] == '>50K']\n",
    "\n",
    "total_per_country = df['native.country'].value_counts()\n",
    "\n",
    "high_income_per_country = high_income['native.country'].value_counts()\n",
    "\n",
    "percentage_per_country = (high_income_per_country / total_per_country) * 100\n",
    "\n",
    "highest_percentage_country = percentage_per_country.idxmax(skipna=True)\n",
    "highest_percentage = percentage_per_country.max(skipna=True)\n",
    "\n",
    "print(f'{highest_percentage_country}: {highest_percentage:.2f}%')"
   ]
  },
  {
   "cell_type": "code",
   "execution_count": 79,
   "metadata": {},
   "outputs": [
    {
     "name": "stdout",
     "output_type": "stream",
     "text": [
      "The most popular occupation for individuals earning >50K in India is Prof-specialty, with 22 people.\n"
     ]
    }
   ],
   "source": [
    "high_income_india = df[(df['income'] == '>50K') & (df['native.country'] == 'India')]\n",
    "\n",
    "most_popular_occupation = high_income_india['occupation'].value_counts().idxmax()\n",
    "occupation_count = high_income_india['occupation'].value_counts().max()\n",
    "\n",
    "print(f'The most popular occupation for individuals earning >50K in India is {most_popular_occupation}, with {occupation_count} people.')\n"
   ]
  }
 ],
 "metadata": {
  "kernelspec": {
   "display_name": "Python 3",
   "language": "python",
   "name": "python3"
  },
  "language_info": {
   "codemirror_mode": {
    "name": "ipython",
    "version": 3
   },
   "file_extension": ".py",
   "mimetype": "text/x-python",
   "name": "python",
   "nbconvert_exporter": "python",
   "pygments_lexer": "ipython3",
   "version": "3.13.0"
  }
 },
 "nbformat": 4,
 "nbformat_minor": 2
}
